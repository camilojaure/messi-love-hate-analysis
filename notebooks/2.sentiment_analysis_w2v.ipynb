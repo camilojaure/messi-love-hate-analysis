{
 "cells": [
  {
   "cell_type": "markdown",
   "metadata": {},
   "source": [
    "# **Sentiment Analysis and Visualization of Messi-Related Conversations**\n",
    "\n",
    "## **Understanding Public Sentiment**\n",
    "\n",
    "This notebook continues the exploration of public conversations about Lionel Messi after Argentina's 2018 FIFA World Cup performance. Building upon the insights gained from word frequency analysis and topic modeling, this step dives into the sentiment dimension of the data. The primary goal is to assess the balance between positive and negative sentiment in the conversations, uncovering whether a polarization (\"grieta\") exists.\n",
    "\n",
    "### **Key Objectives**\n",
    "1. **Vectorizing Text Data with Word2Vec**:\n",
    "   - Use Word2Vec to represent words in a dense vector space, capturing semantic relationships and contextual similarities.\n",
    "   - Train Word2Vec on the dataset to tailor embeddings to the specific language and tone used in Messi-related conversations.\n",
    "\n",
    "2. **Clustering and Visualization with t-SNE**:\n",
    "   - Apply t-SNE (t-Distributed Stochastic Neighbor Embedding) to reduce the dimensionality of the Word2Vec embeddings.\n",
    "   - Visualize the semantic space of words to identify clusters of positive and negative sentiment.\n",
    "   - Explore how sentiment-laden words relate to broader conversational themes.\n",
    "\n",
    "3. **Sentiment Analysis**:\n",
    "   - Map clusters and key terms to sentiment scores (positive, negative, neutral).\n",
    "   - Analyze the distribution of sentiment to determine whether conversations are balanced or skewed toward specific opinions.\n",
    "\n",
    "### **Why This Notebook Is Important**\n",
    "This notebook is pivotal in answering the project's key questions about societal polarization. By linking semantic relationships and sentiment scores, it helps identify whether positive and negative sentiment dominate separate clusters, providing evidence for or against the hypothesis of a divided public opinion.\n",
    "\n",
    "Through advanced NLP techniques and visualization, this notebook translates textual data into actionable insights that bring us closer to understanding the public's perception of Lionel Messi."
   ]
  },
  {
   "cell_type": "code",
   "execution_count": 85,
   "metadata": {},
   "outputs": [],
   "source": [
    "import pandas as pd\n",
    "import numpy as np\n",
    "import matplotlib.pyplot as plt\n",
    "import os\n",
    "import re\n",
    "from gensim import corpora, models, similarities, matutils\n",
    "from gensim.models.word2vec import Word2Vec\n",
    "from gensim.models import KeyedVectors\n",
    "from gensim.matutils import cossim\n",
    "from tqdm import tqdm\n",
    "from nltk.corpus import stopwords\n",
    "from nltk import word_tokenize, sent_tokenize\n",
    "from nltk.stem import SnowballStemmer"
   ]
  },
  {
   "cell_type": "code",
   "execution_count": 86,
   "metadata": {},
   "outputs": [],
   "source": [
    "df = pd.read_csv('../data/processed/messi_comments_cleaned.csv', skipinitialspace=True)\n",
    "messi_analisis = df[df['text'].notnull()]"
   ]
  },
  {
   "cell_type": "code",
   "execution_count": 87,
   "metadata": {},
   "outputs": [
    {
     "data": {
      "text/html": [
       "<div>\n",
       "<style scoped>\n",
       "    .dataframe tbody tr th:only-of-type {\n",
       "        vertical-align: middle;\n",
       "    }\n",
       "\n",
       "    .dataframe tbody tr th {\n",
       "        vertical-align: top;\n",
       "    }\n",
       "\n",
       "    .dataframe thead th {\n",
       "        text-align: right;\n",
       "    }\n",
       "</style>\n",
       "<table border=\"1\" class=\"dataframe\">\n",
       "  <thead>\n",
       "    <tr style=\"text-align: right;\">\n",
       "      <th></th>\n",
       "      <th>_id</th>\n",
       "      <th>_index</th>\n",
       "      <th>_score</th>\n",
       "      <th>_type</th>\n",
       "      <th>page_name</th>\n",
       "      <th>raw_text</th>\n",
       "      <th>text</th>\n",
       "      <th>type</th>\n",
       "      <th>detected_language</th>\n",
       "      <th>lowercased_text</th>\n",
       "      <th>text_no_urls</th>\n",
       "      <th>text_no_special_chars</th>\n",
       "      <th>text_no_stopwords</th>\n",
       "      <th>stemmed_text</th>\n",
       "    </tr>\n",
       "  </thead>\n",
       "  <tbody>\n",
       "    <tr>\n",
       "      <th>2</th>\n",
       "      <td>1.800000e+16</td>\n",
       "      <td>social__instagram__messi</td>\n",
       "      <td>1</td>\n",
       "      <td>doc</td>\n",
       "      <td>messicirque</td>\n",
       "      <td>Consider coming to Chicago plz 🙏🏻</td>\n",
       "      <td>consider coming to chicago plz</td>\n",
       "      <td>instagram_comment</td>\n",
       "      <td>en</td>\n",
       "      <td>NaN</td>\n",
       "      <td>NaN</td>\n",
       "      <td>NaN</td>\n",
       "      <td>NaN</td>\n",
       "      <td>NaN</td>\n",
       "    </tr>\n",
       "    <tr>\n",
       "      <th>3</th>\n",
       "      <td>1.790000e+16</td>\n",
       "      <td>social__instagram__messi</td>\n",
       "      <td>1</td>\n",
       "      <td>doc</td>\n",
       "      <td>messicirque</td>\n",
       "      <td>@calcagnoc @mariolymonge</td>\n",
       "      <td>@calcagnoc @mariolymonge</td>\n",
       "      <td>instagram_comment</td>\n",
       "      <td>it</td>\n",
       "      <td>NaN</td>\n",
       "      <td>NaN</td>\n",
       "      <td>NaN</td>\n",
       "      <td>NaN</td>\n",
       "      <td>NaN</td>\n",
       "    </tr>\n",
       "    <tr>\n",
       "      <th>4</th>\n",
       "      <td>1.790000e+16</td>\n",
       "      <td>social__instagram__messi</td>\n",
       "      <td>1</td>\n",
       "      <td>doc</td>\n",
       "      <td>messicirque</td>\n",
       "      <td>@icriango92 daleeeeeee</td>\n",
       "      <td>@icriango92 daleeeeeee</td>\n",
       "      <td>instagram_comment</td>\n",
       "      <td>nl</td>\n",
       "      <td>NaN</td>\n",
       "      <td>NaN</td>\n",
       "      <td>NaN</td>\n",
       "      <td>NaN</td>\n",
       "      <td>NaN</td>\n",
       "    </tr>\n",
       "    <tr>\n",
       "      <th>5</th>\n",
       "      <td>1.790000e+16</td>\n",
       "      <td>social__instagram__messi</td>\n",
       "      <td>1</td>\n",
       "      <td>doc</td>\n",
       "      <td>messicirque</td>\n",
       "      <td>@uelinton_lima #messicirque</td>\n",
       "      <td>@uelinton_lima #messicirque</td>\n",
       "      <td>instagram_comment</td>\n",
       "      <td>it</td>\n",
       "      <td>NaN</td>\n",
       "      <td>NaN</td>\n",
       "      <td>NaN</td>\n",
       "      <td>NaN</td>\n",
       "      <td>NaN</td>\n",
       "    </tr>\n",
       "    <tr>\n",
       "      <th>6</th>\n",
       "      <td>1.800000e+16</td>\n",
       "      <td>social__instagram__messi</td>\n",
       "      <td>1</td>\n",
       "      <td>doc</td>\n",
       "      <td>messicirque</td>\n",
       "      <td>King of Kings @leomessi 👑</td>\n",
       "      <td>king of kings @leomessi</td>\n",
       "      <td>instagram_comment</td>\n",
       "      <td>en</td>\n",
       "      <td>NaN</td>\n",
       "      <td>NaN</td>\n",
       "      <td>NaN</td>\n",
       "      <td>NaN</td>\n",
       "      <td>NaN</td>\n",
       "    </tr>\n",
       "  </tbody>\n",
       "</table>\n",
       "</div>"
      ],
      "text/plain": [
       "            _id                    _index  _score _type    page_name  \\\n",
       "2  1.800000e+16  social__instagram__messi       1   doc  messicirque   \n",
       "3  1.790000e+16  social__instagram__messi       1   doc  messicirque   \n",
       "4  1.790000e+16  social__instagram__messi       1   doc  messicirque   \n",
       "5  1.790000e+16  social__instagram__messi       1   doc  messicirque   \n",
       "6  1.800000e+16  social__instagram__messi       1   doc  messicirque   \n",
       "\n",
       "                            raw_text                             text  \\\n",
       "2  Consider coming to Chicago plz 🙏🏻  consider coming to chicago plz    \n",
       "3           @calcagnoc @mariolymonge         @calcagnoc @mariolymonge   \n",
       "4             @icriango92 daleeeeeee           @icriango92 daleeeeeee   \n",
       "5        @uelinton_lima #messicirque      @uelinton_lima #messicirque   \n",
       "6          King of Kings @leomessi 👑         king of kings @leomessi    \n",
       "\n",
       "                type detected_language  lowercased_text  text_no_urls  \\\n",
       "2  instagram_comment                en              NaN           NaN   \n",
       "3  instagram_comment                it              NaN           NaN   \n",
       "4  instagram_comment                nl              NaN           NaN   \n",
       "5  instagram_comment                it              NaN           NaN   \n",
       "6  instagram_comment                en              NaN           NaN   \n",
       "\n",
       "   text_no_special_chars  text_no_stopwords  stemmed_text  \n",
       "2                    NaN                NaN           NaN  \n",
       "3                    NaN                NaN           NaN  \n",
       "4                    NaN                NaN           NaN  \n",
       "5                    NaN                NaN           NaN  \n",
       "6                    NaN                NaN           NaN  "
      ]
     },
     "execution_count": 87,
     "metadata": {},
     "output_type": "execute_result"
    }
   ],
   "source": [
    "messi_analisis.head()"
   ]
  },
  {
   "cell_type": "code",
   "execution_count": 88,
   "metadata": {},
   "outputs": [
    {
     "name": "stdout",
     "output_type": "stream",
     "text": [
      "dict_keys(['_id', '_index', '_score', '_type', 'page_name', 'raw_text', 'text', 'type', 'detected_language', 'lowercased_text', 'text_no_urls', 'text_no_special_chars', 'text_no_stopwords', 'stemmed_text'])\n"
     ]
    }
   ],
   "source": [
    "messi_analisis_dict = messi_analisis.to_dict()\n",
    "print(messi_analisis_dict.keys())"
   ]
  },
  {
   "cell_type": "code",
   "execution_count": 89,
   "metadata": {
    "scrolled": true
   },
   "outputs": [],
   "source": [
    "#Make a list of comments\n",
    "comments = []\n",
    "for hit in messi_analisis_dict['text']:\n",
    "    comments.append(''.join(messi_analisis_dict['text'][hit]))"
   ]
  },
  {
   "cell_type": "code",
   "execution_count": 90,
   "metadata": {},
   "outputs": [
    {
     "name": "stdout",
     "output_type": "stream",
     "text": [
      "['consider coming to chicago plz ', '@calcagnoc @mariolymonge', '@icriango92 daleeeeeee', '@uelinton_lima #messicirque', 'king of kings @leomessi ']\n"
     ]
    }
   ],
   "source": [
    "print(comments[:5])"
   ]
  },
  {
   "cell_type": "code",
   "execution_count": 91,
   "metadata": {},
   "outputs": [],
   "source": [
    "#We need to make some further cleraning to the corpus\n",
    "# Define the cleaning function\n",
    "def clean_comment(comment):\n",
    "    comment = re.sub(r\"@\\w+\", \" \", comment)  # Remove handles\n",
    "    comment = re.sub(r\"#\\w+\", \" \", comment)  # Remove hashtags\n",
    "    comment = re.sub(r\"[^\\w\\s]\", \" \", comment)  # Remove punctuation\n",
    "    comment = re.sub(r'\\s+', ' ', comment).strip()  # Remove extra spaces and line breaks\n",
    "    return comment"
   ]
  },
  {
   "cell_type": "code",
   "execution_count": 92,
   "metadata": {},
   "outputs": [],
   "source": [
    "# Apply the cleaning function to each comment\n",
    "cleaned_corpus = [clean_comment(comment) for comment in comments]\n",
    "cleaned_corpus = [comment for comment in cleaned_corpus if comment]"
   ]
  },
  {
   "cell_type": "code",
   "execution_count": 93,
   "metadata": {},
   "outputs": [
    {
     "data": {
      "text/plain": [
       "['consider coming to chicago plz',\n",
       " 'daleeeeeee',\n",
       " 'king of kings',\n",
       " 'gran capi',\n",
       " 'ola mesis si quiero ganar una entrada para yo verte en persona por que yo sol tu fan']"
      ]
     },
     "execution_count": 93,
     "metadata": {},
     "output_type": "execute_result"
    }
   ],
   "source": [
    "cleaned_corpus[:5]  "
   ]
  },
  {
   "cell_type": "code",
   "execution_count": 94,
   "metadata": {},
   "outputs": [],
   "source": [
    "replacements = {\n",
    "    'StandWithKerala': '',\n",
    "    'https://youtu.be/i': '',\n",
    "    'http://www.wasap.my': '',\n",
    "    'https://a.cstmapp.com': '',\n",
    "    '?': '',\n",
    "    '!': '',\n",
    "    'mesi': 'messi',\n",
    "    'messii': 'messi',\n",
    "    'idolooooooo': 'idolo',\n",
    "    'youuuuuu': 'you',\n",
    "    'kiiing': 'king',\n",
    "    'lovee': 'love',\n",
    "    'youuuuuuu': 'you',\n",
    "    'hermosooo': 'hermoso',\n",
    "    'uuuuu': 'u',\n",
    "    'daleeeeeee': 'dale',\n",
    "    'mannn': 'man',\n",
    "    'lindooooo': 'lindo',\n",
    "    'wachoooo': 'guacho',\n",
    "    'lave': 'love',\n",
    "    'kkkkkkkkkkkkkkkk': 'king',\n",
    "    'kinggggg': 'king',\n",
    "    'grandeeeeeee': 'grande',\n",
    "    'craaaack': 'crack',\n",
    "    'vamoossssss': 'vamos',\n",
    "    'vamps': 'vamos',\n",
    "    'tuyaaa': 'tuya',\n",
    "    'podesss': 'podes',\n",
    "    'puedeeee': 'puede',\n",
    "    'vamooss': 'vamos',\n",
    "    'vamoos': 'vamos',\n",
    "    'papaaaa': 'papa',\n",
    "    'campeonnnn': 'campeon',\n",
    "    'neneeee': 'nene',\n",
    "    'fuerzasss': 'fuerza',\n",
    "    'fuerzaaa': 'fuerza',\n",
    "    'argentinaaa': 'argentina',\n",
    "    'leeooo': 'leo',\n",
    "    'vamooooo': 'vamos',\n",
    "    'genioooooooooo': 'genio',\n",
    "    'vamosss': 'vamos',\n",
    "    'vamod': 'vamos',\n",
    "    'suerteeee': 'suerte',\n",
    "    'dioss': 'dios',\n",
    "    'kiiiiing': 'king',\n",
    "    'messsssi': 'messi',\n",
    "    'bancoo': 'banco',\n",
    "    'locoooo': 'loco',\n",
    "    'ting': 'king',\n",
    "    'messiiiiiiiiii': 'messi',\n",
    "    'messiiiiiiii': 'messi',\n",
    "    'messsiiiiii': 'messi',\n",
    "    'messsiiii': 'messi',\n",
    "    'messiiii': 'messi',\n",
    "    'argntina': 'argentina',\n",
    "    'agentina': 'argentina',\n",
    "    'argentinaaaaaaa': 'argentina',\n",
    "    'oof': '',\n",
    "    'ly': '',\n",
    "    'kkkkkkkkkkkkk': 'king'\n",
    "}"
   ]
  },
  {
   "cell_type": "code",
   "execution_count": 95,
   "metadata": {},
   "outputs": [],
   "source": [
    "# Apply the replacements\n",
    "def apply_replacements(text, replacements):\n",
    "    for old, new in replacements.items():\n",
    "        text = text.replace(old, new)\n",
    "    return text\n",
    "\n",
    "cleaned_corpus = [apply_replacements(comment, replacements) for comment in cleaned_corpus]"
   ]
  },
  {
   "cell_type": "code",
   "execution_count": 96,
   "metadata": {},
   "outputs": [
    {
     "data": {
      "text/plain": [
       "['consider coming to chicago plz',\n",
       " 'dale',\n",
       " 'king of kings',\n",
       " 'gran capi',\n",
       " 'ola messis si quiero ganar una entrada para yo verte en persona por que yo sol tu fan']"
      ]
     },
     "execution_count": 96,
     "metadata": {},
     "output_type": "execute_result"
    }
   ],
   "source": [
    "cleaned_corpus[:5]"
   ]
  },
  {
   "cell_type": "code",
   "execution_count": 97,
   "metadata": {},
   "outputs": [
    {
     "name": "stderr",
     "output_type": "stream",
     "text": [
      "100%|██████████| 251000/251000 [00:12<00:00, 19399.71it/s]\n"
     ]
    }
   ],
   "source": [
    "# tiro los tokens no alphabeticos \n",
    "trainset = []\n",
    "for sent in tqdm(cleaned_corpus):\n",
    "    tokens = []#corpus\n",
    "    for token in word_tokenize(sent):\n",
    "        if token.isalpha():\n",
    "            tokens.append(token)\n",
    "    trainset.append(tokens)"
   ]
  },
  {
   "cell_type": "code",
   "execution_count": 98,
   "metadata": {},
   "outputs": [
    {
     "name": "stdout",
     "output_type": "stream",
     "text": [
      "The corpus has 251000 sentences and 2043384 words\n"
     ]
    }
   ],
   "source": [
    "print(\"The corpus has\", len(trainset), \"sentences and\", sum([len(x) for x in trainset]), \"words\")"
   ]
  },
  {
   "cell_type": "code",
   "execution_count": 99,
   "metadata": {},
   "outputs": [],
   "source": [
    "# \"window\" is the size of the window. window = 10 means using 10 words to the left and 10 words to the right\n",
    "# \"n_dim\" is the dimension (i.e., the length) of the word2vec vectors\n",
    "# \"workers\" is the number of cores used in parallel. To take advantage of this, you need to have Cython installed\n",
    "# \"sample\": word2vec filters words that appear more frequently than \"sample\"\n",
    "# \"min_count\": word2vec filters words with fewer occurrences than \"min_count\"\n",
    "# \"sg\": to run the Skip-gram model (sg = 1), to run the CBOW model (sg = 0)\n",
    "# For more details, see: https://radimrehurek.com/gensim/models/word2vec.html\n",
    "n_dim = 20\n",
    "w2v_model = Word2Vec(trainset, workers=4, vector_size=n_dim, min_count=10, window=7, sample=1e-2, negative=10, sg=1)"
   ]
  },
  {
   "cell_type": "code",
   "execution_count": 100,
   "metadata": {},
   "outputs": [
    {
     "name": "stdout",
     "output_type": "stream",
     "text": [
      "Model saved to ../results/messi_2dim\n"
     ]
    }
   ],
   "source": [
    "#Save the model to the results folder\n",
    "results_dir = '../results'\n",
    "os.makedirs(results_dir, exist_ok=True)\n",
    "\n",
    "model_path = os.path.join(results_dir, 'messi_2dim')\n",
    "\n",
    "w2v_model.save(model_path)\n",
    "\n",
    "print(f'Model saved to {model_path}')"
   ]
  },
  {
   "cell_type": "code",
   "execution_count": 101,
   "metadata": {},
   "outputs": [],
   "source": [
    "#w2v_model = Word2Vec.load(\"../results/messi_2dim\")  # load model ww"
   ]
  },
  {
   "cell_type": "code",
   "execution_count": 102,
   "metadata": {},
   "outputs": [
    {
     "data": {
      "text/plain": [
       "array([-0.27646434, -0.06292904,  0.7249249 ,  1.0098152 , -0.09983145,\n",
       "       -0.3751656 , -0.00356581, -0.10369779, -0.9766303 ,  0.47543597,\n",
       "       -0.57478255,  0.25247318,  0.32908008,  0.01537866,  0.16504428,\n",
       "        0.40081185,  0.7049747 , -0.38098848,  0.25159523, -0.7712678 ],\n",
       "      dtype=float32)"
      ]
     },
     "execution_count": 102,
     "metadata": {},
     "output_type": "execute_result"
    }
   ],
   "source": [
    "w2v_model.wv[\"messi\"]  #vector representation of the word \"messi\""
   ]
  },
  {
   "cell_type": "code",
   "execution_count": 103,
   "metadata": {},
   "outputs": [
    {
     "data": {
      "text/plain": [
       "[('lionel', 0.8904860019683838),\n",
       " ('messy', 0.879732072353363),\n",
       " ('leomessi', 0.8782386183738708),\n",
       " ('leo', 0.8702042698860168),\n",
       " ('argentina', 0.8584555387496948),\n",
       " ('leooooo', 0.8580862879753113),\n",
       " ('messii', 0.8546197414398193),\n",
       " ('messiii', 0.8496592044830322),\n",
       " ('papi', 0.8484838604927063),\n",
       " ('mann', 0.844642698764801),\n",
       " ('massi', 0.8351081013679504),\n",
       " ('goat', 0.8314341306686401),\n",
       " ('leoo', 0.8301492929458618),\n",
       " ('leoooo', 0.8288233876228333),\n",
       " ('leonel', 0.8279175758361816)]"
      ]
     },
     "execution_count": 103,
     "metadata": {},
     "output_type": "execute_result"
    }
   ],
   "source": [
    "# Lets see the most similar words to \"messi\"\n",
    "w2v_model.wv.most_similar(positive=[\"messi\"], negative=[], topn=15)"
   ]
  },
  {
   "cell_type": "code",
   "execution_count": 104,
   "metadata": {},
   "outputs": [
    {
     "data": {
      "text/plain": [
       "[('traidor', 0.9351709485054016),\n",
       " ('redonda', 0.9350624084472656),\n",
       " ('dejamos', 0.9304874539375305),\n",
       " ('volvete', 0.9238334894180298),\n",
       " ('usando', 0.9228062033653259),\n",
       " ('clove', 0.9223501682281494),\n",
       " ('albiceleste', 0.9219019412994385),\n",
       " ('lleves', 0.9218097925186157),\n",
       " ('infeliz', 0.9195303916931152),\n",
       " ('rompen', 0.9185332655906677),\n",
       " ('sele', 0.9182926416397095),\n",
       " ('hinchada', 0.9179902076721191),\n",
       " ('dependemos', 0.9172705411911011),\n",
       " ('llevamos', 0.9167706966400146),\n",
       " ('renunciar', 0.9165091514587402)]"
      ]
     },
     "execution_count": 104,
     "metadata": {},
     "output_type": "execute_result"
    }
   ],
   "source": [
    "w2v_model.wv.most_similar(positive=[\"seleccion\"], negative=[], topn=15)"
   ]
  },
  {
   "cell_type": "code",
   "execution_count": 105,
   "metadata": {},
   "outputs": [
    {
     "data": {
      "text/plain": [
       "[('caballero', 0.9342872500419617),\n",
       " ('dt', 0.8769216537475586),\n",
       " ('jajajajaj', 0.8557303547859192),\n",
       " ('pavon', 0.8519107103347778),\n",
       " ('jajajaja', 0.8506445288658142),\n",
       " ('sirves', 0.8502002358436584),\n",
       " ('arquero', 0.8467928171157837),\n",
       " ('director', 0.8385975956916809),\n",
       " ('higuain', 0.8382443189620972),\n",
       " ('romero', 0.8325904011726379),\n",
       " ('rakitic', 0.831013023853302),\n",
       " ('meza', 0.8305657505989075),\n",
       " ('dybala', 0.8278264403343201),\n",
       " ('iniesta', 0.8259186148643494),\n",
       " ('error', 0.8202085494995117)]"
      ]
     },
     "execution_count": 105,
     "metadata": {},
     "output_type": "execute_result"
    }
   ],
   "source": [
    "w2v_model.wv.most_similar(positive=[\"sampaoli\"], negative=[], topn=15) # Va"
   ]
  },
  {
   "cell_type": "code",
   "execution_count": 106,
   "metadata": {},
   "outputs": [
    {
     "ename": "AttributeError",
     "evalue": "'Word2Vec' object has no attribute 'most_similar'",
     "output_type": "error",
     "traceback": [
      "\u001b[0;31m---------------------------------------------------------------------------\u001b[0m",
      "\u001b[0;31mAttributeError\u001b[0m                            Traceback (most recent call last)",
      "Cell \u001b[0;32mIn[106], line 1\u001b[0m\n\u001b[0;32m----> 1\u001b[0m \u001b[43mw2v_model\u001b[49m\u001b[38;5;241;43m.\u001b[39;49m\u001b[43mmost_similar\u001b[49m(positive\u001b[38;5;241m=\u001b[39m[\u001b[38;5;124m\"\u001b[39m\u001b[38;5;124mpechofrio\u001b[39m\u001b[38;5;124m\"\u001b[39m], negative\u001b[38;5;241m=\u001b[39m[], topn\u001b[38;5;241m=\u001b[39m\u001b[38;5;241m15\u001b[39m)\n",
      "\u001b[0;31mAttributeError\u001b[0m: 'Word2Vec' object has no attribute 'most_similar'"
     ]
    }
   ],
   "source": [
    "w2v_model.most_similar(positive=[\"pechofrio\"], negative=[], topn=15)"
   ]
  },
  {
   "cell_type": "code",
   "execution_count": 63,
   "metadata": {},
   "outputs": [
    {
     "data": {
      "text/plain": [
       "[('argetina', 0.9306855201721191),\n",
       " ('arg', 0.8755513429641724),\n",
       " ('argentinaa', 0.8697168827056885),\n",
       " ('argentinaaaa', 0.8625209927558899),\n",
       " ('argentinaaa', 0.8476192355155945),\n",
       " ('arjentina', 0.846302330493927),\n",
       " ('messi', 0.8437033891677856),\n",
       " ('final', 0.8330454230308533),\n",
       " ('russia', 0.8265551328659058),\n",
       " ('carajooo', 0.8216570615768433),\n",
       " ('tango', 0.8192093372344971),\n",
       " ('argentinaaaaa', 0.8182703256607056),\n",
       " ('leoooo', 0.8163160085678101),\n",
       " ('nigeria', 0.815504252910614),\n",
       " ('messiiii', 0.8151804804801941)]"
      ]
     },
     "execution_count": 63,
     "metadata": {},
     "output_type": "execute_result"
    }
   ],
   "source": [
    "w2v_model.wv.most_similar(positive=[\"argentina\"], negative=[], topn=15)"
   ]
  },
  {
   "cell_type": "code",
   "execution_count": 64,
   "metadata": {},
   "outputs": [
    {
     "data": {
      "text/plain": [
       "[('tuyooo', 0.9384162425994873),\n",
       " ('ano', 0.9330341815948486),\n",
       " ('campeonato', 0.9308337569236755),\n",
       " ('mundia', 0.9286778569221497),\n",
       " ('tullo', 0.9280920028686523),\n",
       " ('ganara', 0.9193358421325684),\n",
       " ('regalanos', 0.9184876084327698),\n",
       " ('ganaras', 0.9175201654434204),\n",
       " ('premio', 0.9070297479629517),\n",
       " ('prox', 0.9046111702919006),\n",
       " ('echale', 0.9039946794509888),\n",
       " ('igualmente', 0.9036569595336914),\n",
       " ('acabado', 0.9002811908721924),\n",
       " ('cono', 0.8993327617645264),\n",
       " ('demuestre', 0.8963626623153687)]"
      ]
     },
     "execution_count": 64,
     "metadata": {},
     "output_type": "execute_result"
    }
   ],
   "source": [
    "w2v_model.wv.most_similar(positive=[\"mundial\", \"proximo\"], negative=[], topn=15)"
   ]
  },
  {
   "cell_type": "code",
   "execution_count": 65,
   "metadata": {},
   "outputs": [
    {
     "data": {
      "text/plain": [
       "[('ql', 0.9395216703414917),\n",
       " ('qlo', 0.9247188568115234),\n",
       " ('perdiste', 0.9136252999305725),\n",
       " ('jajaja', 0.9047861695289612),\n",
       " ('jajajaja', 0.9045977592468262),\n",
       " ('wn', 0.9009936451911926),\n",
       " ('tonto', 0.8976081013679504),\n",
       " ('pecho', 0.897061288356781),\n",
       " ('ctm', 0.896489143371582),\n",
       " ('amargo', 0.8936675190925598),\n",
       " ('frio', 0.8885468244552612),\n",
       " ('erras', 0.886950671672821),\n",
       " ('quedaste', 0.8853290677070618),\n",
       " ('pinche', 0.8824436664581299),\n",
       " ('jajajajaja', 0.8782485127449036)]"
      ]
     },
     "execution_count": 65,
     "metadata": {},
     "output_type": "execute_result"
    }
   ],
   "source": [
    "w2v_model.wv.most_similar(positive=[\"malo\"], negative=[], topn=15)"
   ]
  },
  {
   "cell_type": "markdown",
   "metadata": {},
   "source": [
    "## Dimensionality Reduction and Visualization\n",
    "\n",
    "In this section, we apply dimensionality reduction techniques, to transform high-dimensional word embeddings (e.g., Word2Vec vectors) into a lower-dimensional space. This allows us to visualize the relationships between words, uncover semantic clusters, and identify patterns within the data."
   ]
  },
  {
   "cell_type": "code",
   "execution_count": 66,
   "metadata": {},
   "outputs": [],
   "source": [
    "haters = [\"pechofrio\",\"overrated\",\"fuck\",\"basura\",\"boludo\",\"amargo\", \"pessi\", 'losser', 'midget', 'fool'] # 10palabras Haters\n",
    "lovers = [\"mejor\",\"vamos\",\"loco\",\"podes\",\"aguante\",\"king\",\"goat\",'legend', 'tank', 'banco'] #10 palabras Lovers\n",
    "neutras = [\"argentina\",\"barcelona\",\"barca\",\"club\",\"suarez\", \"sampaoli\", \"seleccion\", \"fifa\", \"mundial\", \"cup\"] #10 palabras temáticas\n",
    "target = [\"messi\"]\n",
    "palabras = haters + lovers + neutras + target\n",
    "colores = [\"red\"]*len(haters)+[\"green\"]*len(lovers)+[\"blue\"]*len(neutras)+[\"black\"]*len(target)"
   ]
  },
  {
   "cell_type": "code",
   "execution_count": null,
   "metadata": {},
   "outputs": [
    {
     "name": "stdout",
     "output_type": "stream",
     "text": [
      "(31, 31)\n"
     ]
    }
   ],
   "source": [
    "# Armo una matriz de distancias\n",
    "distancias=np.zeros((len(palabras),len(palabras))) #matriz cuadrada\n",
    "for i,ti in enumerate(palabras):\n",
    "    for j,tj in enumerate(palabras):\n",
    "        distancias[i,j] = abs(1-w2v_model.wv.similarity(ti,tj))\n",
    "print (distancias.shape)"
   ]
  },
  {
   "cell_type": "markdown",
   "metadata": {},
   "source": [
    "## What is MDS?\n",
    "\n",
    "**Multidimensional Scaling (MDS)** is a dimensionality reduction technique used to represent high-dimensional data in a lower-dimensional space, while preserving the pairwise distances between data points as accurately as possible. In the context of this study, MDS is applied to Word2Vec embeddings to visualize the semantic relationships between words in public conversations about Lionel Messi, the national team, and the 2018 FIFA World Cup. By reducing the dimensionality, MDS helps identify clusters of positive, negative, or neutral sentiment and uncover patterns in how fans discuss these topics."
   ]
  },
  {
   "cell_type": "code",
   "execution_count": 107,
   "metadata": {},
   "outputs": [],
   "source": [
    "# Reduccion de la dimensionalidad y visualizacion \n",
    "from sklearn.manifold import MDS\n",
    "\n",
    "def visualize_embeddings(distancias, palabras, colores):\n",
    "    plt.figure(figsize=(15,10))\n",
    "    \n",
    "    # Dimensionality reduction and visualization using MDS\n",
    "    mds = MDS(n_components=2, max_iter=3000, eps=1e-9, random_state=123,\n",
    "              dissimilarity=\"precomputed\", n_jobs=4)\n",
    "    Y = mds.fit(distancias).embedding_\n",
    "    \n",
    "    plt.scatter(Y[:, 0], Y[:, 1], color=\"black\", s=3)\n",
    "    for label, x, y, color in zip(palabras, Y[:, 0], Y[:, 1], colores):\n",
    "        plt.annotate(label, xy=(x, y), xytext=(0, 0), color=color, textcoords='offset points', size=10)\n",
    "    plt.title(\"MDS\")\n",
    "    plt.show()\n",
    "\n",
    "    # Define the path to save the plot\n",
    "    plot_path = os.path.join(results_dir, 'words_sentiment_visual.png')\n",
    "    plt.savefig(plot_path, format='png')\n",
    "    print(f'Wordcloud saved to {plot_path}')"
   ]
  },
  {
   "cell_type": "code",
   "execution_count": 108,
   "metadata": {},
   "outputs": [
    {
     "name": "stderr",
     "output_type": "stream",
     "text": [
      "/Users/camilojaureguiberry/anaconda3/lib/python3.10/site-packages/sklearn/manifold/_mds.py:298: FutureWarning: The default value of `normalized_stress` will change to `'auto'` in version 1.4. To suppress this warning, manually set the value of `normalized_stress`.\n",
      "  warnings.warn(\n"
     ]
    },
    {
     "data": {
      "image/png": "[encoded data removed]",
      "text/plain": [
       "<Figure size 1500x1000 with 1 Axes>"
      ]
     },
     "metadata": {},
     "output_type": "display_data"
    },
    {
     "name": "stdout",
     "output_type": "stream",
     "text": [
      "Wordcloud saved to ../results/words_sentiment_visual.png\n"
     ]
    },
    {
     "data": {
      "text/plain": [
       "<Figure size 640x480 with 0 Axes>"
      ]
     },
     "metadata": {},
     "output_type": "display_data"
    }
   ],
   "source": [
    "visualize_embeddings(distancias,palabras,colores)"
   ]
  },
  {
   "cell_type": "code",
   "execution_count": 84,
   "metadata": {
    "scrolled": true
   },
   "outputs": [
    {
     "name": "stdout",
     "output_type": "stream",
     "text": [
      "Las palabras negativas 'Haters' están en 1777 comentarios\n",
      "Las palabras positivas 'lovers' están en 54360 comentarios\n",
      "Las palabras neutrales están en 25696 comentarios\n"
     ]
    }
   ],
   "source": [
    "q_haters = messi_analisis[\"_id\"][messi_analisis['text'].str.contains(\"pechofrio|overrated|fuck|basura|boludo|amargo|pessi|losser|midget|fool\", regex = True)].count()\n",
    "print (\"Las palabras negativas 'Haters' están en {} comentarios\".format(q_haters))\n",
    "\n",
    "q_lovers = messi_analisis[\"_id\"][messi_analisis['text'].str.contains(\"mejor|vamos|loco|podes|aguante|king|goat|legend|tank|banco\", regex = True)].count()\n",
    "print (\"Las palabras positivas 'lovers' están en {} comentarios\".format(q_lovers))\n",
    "\n",
    "q_neutras = messi_analisis[\"_id\"][messi_analisis['text'].str.contains(\"argentina|barcelona|barca|club|suarez|sampaoli|seleccion|fifa|mundial|cup\", regex = True)].count()\n",
    "print (\"Las palabras neutrales están en {} comentarios\".format(q_neutras))\n"
   ]
  },
  {
   "cell_type": "markdown",
   "metadata": {},
   "source": [
    "## Summary Conclusion\n",
    "\n",
    "The analysis of public conversations about Lionel Messi following the 2018 FIFA World Cup reveals a clear polarization in sentiment. Distinct clusters of **negative** (e.g., \"pechofrío,\" \"overrated\") and **positive** (e.g., \"goat,\" \"legend\") words highlight the divided opinions surrounding Messi's performance and persona. \n",
    "\n",
    "When quantifying the frequency of these expressions, **positive words (\"lovers\")** appear in 54,360 comments, significantly outnumbering the 1,777 comments containing **negative words (\"haters\")**. Additionally, 25,696 comments include **neutral terms** related to Argentina, the team, or other players. \n",
    "\n",
    "This demonstrates that while there is criticism and polarization, the overall sentiment in Messi's conversations leans heavily toward admiration and support."
   ]
  }
 ],
 "metadata": {
  "kernelspec": {
   "display_name": "base",
   "language": "python",
   "name": "python3"
  },
  "language_info": {
   "codemirror_mode": {
    "name": "ipython",
    "version": 3
   },
   "file_extension": ".py",
   "mimetype": "text/x-python",
   "name": "python",
   "nbconvert_exporter": "python",
   "pygments_lexer": "ipython3",
   "version": "3.10.13"
  }
 },
 "nbformat": 4,
 "nbformat_minor": 2
}
